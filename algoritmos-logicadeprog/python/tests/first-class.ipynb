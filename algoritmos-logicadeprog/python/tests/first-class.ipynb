{
  "cells": [
    {
      "cell_type": "markdown",
      "metadata": {
        "colab_type": "text",
        "id": "view-in-github"
      },
      "source": [
        "<a href=\"https://colab.research.google.com/github/Zayozin/activities-fatec/blob/main/Aula01.ipynb\" target=\"_parent\"><img src=\"https://colab.research.google.com/assets/colab-badge.svg\" alt=\"Open In Colab\"/></a>"
      ]
    },
    {
      "cell_type": "code",
      "execution_count": 3,
      "metadata": {
        "id": "dgdF41u5o9nV"
      },
      "outputs": [
        {
          "name": "stdout",
          "output_type": "stream",
          "text": [
            "Olá, Mundo!\n"
          ]
        }
      ],
      "source": [
        "# o print mostra mensagens na saída padrão\n",
        "# neste caso o print exibirá na tela a frase Olá Mundo!\n",
        "print('Olá, Mundo!')"
      ]
    },
    {
      "cell_type": "code",
      "execution_count": 2,
      "metadata": {
        "id": "m3TXzao9qS91"
      },
      "outputs": [
        {
          "name": "stdout",
          "output_type": "stream",
          "text": [
            "Mensagem 1\n",
            "Mensagem 2\n",
            "Mensagem 3\n"
          ]
        }
      ],
      "source": [
        "# Atividade 1\n",
        "# Exiba 3 mensagens além de Olá Mundo\n",
        "# Dica: coloque 3 linhas com o print\n",
        "print('Mensagem 1')\n",
        "print('Mensagem 2')\n",
        "print('Mensagem 3')"
      ]
    },
    {
      "cell_type": "code",
      "execution_count": null,
      "metadata": {
        "colab": {
          "base_uri": "https://localhost:8080/"
        },
        "id": "Z-M3oSIOrkxw",
        "outputId": "43b3d03a-6ebe-4f7e-f21e-588e76372658"
      },
      "outputs": [
        {
          "name": "stdout",
          "output_type": "stream",
          "text": [
            "Digite seu nome Breno\n",
            "Olá, Breno!\n"
          ]
        }
      ],
      "source": [
        "# A variável tem a função de armazenar um valor\n",
        "# variáveis com 2 nomes ou mais usa \"_\"\n",
        "# o input lê o valor dado pelo usuário\n",
        "nome = input('Digite seu nome ')\n",
        "print('Olá, ' + nome +'!')\n"
      ]
    },
    {
      "cell_type": "code",
      "execution_count": null,
      "metadata": {
        "colab": {
          "base_uri": "https://localhost:8080/"
        },
        "id": "PrpYOyI9ywAm",
        "outputId": "f10fbe10-5cf5-4aab-f546-8c38e9b3affd"
      },
      "outputs": [
        {
          "name": "stdout",
          "output_type": "stream",
          "text": [
            "Digite seu nome Breno\n",
            "DIgite sua idade 18\n",
            "Olá, Breno sua idade é de 18 anos\n"
          ]
        }
      ],
      "source": [
        "# Atividade 2\n",
        "# Amplie o exemplo anterior para que seja perguntado o nome e a idade do usuário\n",
        "nome = input('Digite seu nome ')\n",
        "idade = input('DIgite sua idade ')\n",
        "print('Olá, ' + nome + ' sua idade é de ' + idade + ' anos')"
      ]
    },
    {
      "cell_type": "code",
      "execution_count": null,
      "metadata": {
        "colab": {
          "base_uri": "https://localhost:8080/"
        },
        "id": "WavHB-ISpwmx",
        "outputId": "d2fa53a0-1b7b-4ec9-a198-1936ba6b9144"
      },
      "outputs": [
        {
          "name": "stdout",
          "output_type": "stream",
          "text": [
            "Digite seu nome Breno\n",
            "Digite seu sobrenome Pavanelli\n",
            "Digite sua idade 18\n",
            "Digite a cidade a qual você mora Jaboticabal\n",
            "Digite a escola que você estuda Fatec\n",
            "Olá Breno Pavanelli, sua idade é de 18 anos, morador da cidade de Jaboticabal, que estuda na Fatec\n"
          ]
        }
      ],
      "source": [
        "# Atividade 3\n",
        "# Monte um questionário de 5 perguntas\n",
        "nome = input('Digite seu nome ')\n",
        "sobrenome = input('Digite seu sobrenome ')\n",
        "idade = input('Digite sua idade ')\n",
        "moradia = input('Digite a cidade a qual você mora ')\n",
        "estudo = input('Digite a escola que você estuda ')\n",
        "print('Olá ' + nome + ' '+ sobrenome + ', sua idade é de ' + idade + ' anos,'' morador da cidade de '+ moradia + ', que estuda na ' + estudo)\n",
        "\n"
      ]
    },
    {
      "cell_type": "code",
      "execution_count": null,
      "metadata": {
        "colab": {
          "base_uri": "https://localhost:8080/"
        },
        "id": "iLrGaliA2jUU",
        "outputId": "0d27d47d-aa41-45cc-b700-7dcbbe687964"
      },
      "outputs": [
        {
          "name": "stdout",
          "output_type": "stream",
          "text": [
            " O que espero aprender em Python;\n",
            "- Como escrever scripts eficientes.\n",
            "- Análise de dados.\n",
            "- Desenvolvimento web.\n",
            "\n"
          ]
        }
      ],
      "source": [
        "# o uso de ''' permite mensagens multilinhas\n",
        "print(''' O que espero aprender em Python;\n",
        "- Como escrever scripts eficientes.\n",
        "- Análise de dados.\n",
        "- Desenvolvimento web.\n",
        "''')"
      ]
    },
    {
      "cell_type": "code",
      "execution_count": null,
      "metadata": {
        "colab": {
          "base_uri": "https://localhost:8080/"
        },
        "id": "54DyyCzn7vMO",
        "outputId": "b7c5be73-9265-4bdb-9b23-a7dd3e1a35c0"
      },
      "outputs": [
        {
          "name": "stdout",
          "output_type": "stream",
          "text": [
            "python é incrível!\n"
          ]
        }
      ],
      "source": [
        "parte1= 'python é '\n",
        "parte2= 'incrível!'\n",
        "print(parte1 + parte2)"
      ]
    },
    {
      "cell_type": "code",
      "execution_count": null,
      "metadata": {
        "colab": {
          "base_uri": "https://localhost:8080/"
        },
        "id": "KY7HuqCG9zk7",
        "outputId": "0f183318-052c-4b18-f185-d704c6024b0f"
      },
      "outputs": [
        {
          "name": "stdout",
          "output_type": "stream",
          "text": [
            "O valor final é = abcde\n"
          ]
        }
      ],
      "source": [
        "valor1 = 'a'\n",
        "valor2 = 'b'\n",
        "valor3 = 'c'\n",
        "valor4 = 'd'\n",
        "valor5 = 'e'\n",
        "print('O valor final é = ' +  valor1 + valor2 + valor3 + valor4 + valor5)"
      ]
    }
  ],
  "metadata": {
    "colab": {
      "authorship_tag": "ABX9TyMt/oM4rmLi2EBqLYQlj9Gi",
      "include_colab_link": true,
      "provenance": []
    },
    "kernelspec": {
      "display_name": "Python 3",
      "name": "python3"
    },
    "language_info": {
      "codemirror_mode": {
        "name": "ipython",
        "version": 3
      },
      "file_extension": ".py",
      "mimetype": "text/x-python",
      "name": "python",
      "nbconvert_exporter": "python",
      "pygments_lexer": "ipython3",
      "version": "3.12.2"
    }
  },
  "nbformat": 4,
  "nbformat_minor": 0
}
